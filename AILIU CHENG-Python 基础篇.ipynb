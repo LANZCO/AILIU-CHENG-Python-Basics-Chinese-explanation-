{
 "cells": [
  {
   "cell_type": "markdown",
   "metadata": {},
   "source": [
    "处理异常模块的方法\n",
    "\n",
    "AILIU CHENG"
   ]
  },
  {
   "cell_type": "code",
   "execution_count": 2,
   "metadata": {},
   "outputs": [
    {
     "ename": "IndentationError",
     "evalue": "unexpected indent (Temp/ipykernel_6004/320825564.py, line 2)",
     "output_type": "error",
     "traceback": [
      "\u001b[1;36m  File \u001b[1;32m\"C:\\Users\\PATRIC~1\\AppData\\Local\\Temp/ipykernel_6004/320825564.py\"\u001b[1;36m, line \u001b[1;32m2\u001b[0m\n\u001b[1;33m    for i in range(10):\u001b[0m\n\u001b[1;37m    ^\u001b[0m\n\u001b[1;31mIndentationError\u001b[0m\u001b[1;31m:\u001b[0m unexpected indent\n"
     ]
    }
   ],
   "source": [
    "import math\n",
    " for i in range(10):\n",
    "    input_number = input('write a number')\n",
    "    if input_number == 'q':\n",
    "        break\n",
    "    result = math.log(float(input_number))\n",
    "    print (result)"
   ]
  }
 ],
 "metadata": {
  "interpreter": {
   "hash": "f7e832f49aa6d08ec90f61b8b1dfb17693ecea1075c5aabc533c1bcab925e12d"
  },
  "kernelspec": {
   "display_name": "Python 3.10.0 64-bit",
   "language": "python",
   "name": "python3"
  },
  "language_info": {
   "codemirror_mode": {
    "name": "ipython",
    "version": 3
   },
   "file_extension": ".py",
   "mimetype": "text/x-python",
   "name": "python",
   "nbconvert_exporter": "python",
   "pygments_lexer": "ipython3",
   "version": "3.10.0"
  },
  "orig_nbformat": 4
 },
 "nbformat": 4,
 "nbformat_minor": 2
}
